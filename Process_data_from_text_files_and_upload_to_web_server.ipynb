{
 "cells": [
  {
   "cell_type": "markdown",
   "metadata": {},
   "source": [
    "## Introduction\n",
    "You’re working at a company that sells second-hand cars. Your company constantly collects feedback in the form of customer reviews. Your manager asks you to take those reviews (saved as .txt files) and display them on your company’s website. To do this, you’ll need to write a script to convert those .txt files and process them into Python dictionaries, then upload the data onto your company’s website (currently using Django).\n",
    "\n",
    "## What you’ll do\n",
    "- Use the Python OS module to process a directory of text files\n",
    "- Manage information stored in Python dictionaries\n",
    "- Use the Python requests module to upload content to a running Web service\n",
    "- Understand basic operations for Python requests like GET and POST methods"
   ]
  },
  {
   "cell_type": "code",
   "execution_count": null,
   "metadata": {},
   "outputs": [],
   "source": [
    "#! /usr/bin/env python3\n",
    "\n",
    "import os\n",
    "import requests\n",
    "\n",
    "\n",
    "\n",
    "for name in os.listdir(\"/data/feedback\"):\n",
    "\twith open(\"/data/feedback/\"+name) as file:\n",
    "\t\tline=file.readlines()\n",
    "\t\tfeedback={\"title\" : line[0].strip(), \"name\":line[1].strip(),\"date\":line[2].strip(),\"feedback\":line[3].strip()}\n",
    "\t\tresponse=requests.post(\"http://35.239.212.204/feedback/\",json=feedback)\n",
    "\t\tprint(response.status_code, response.text[20])\n"
   ]
  }
 ],
 "metadata": {
  "kernelspec": {
   "display_name": "Python 3",
   "language": "python",
   "name": "python3"
  },
  "language_info": {
   "codemirror_mode": {
    "name": "ipython",
    "version": 3
   },
   "file_extension": ".py",
   "mimetype": "text/x-python",
   "name": "python",
   "nbconvert_exporter": "python",
   "pygments_lexer": "ipython3",
   "version": "3.7.4"
  }
 },
 "nbformat": 4,
 "nbformat_minor": 2
}
